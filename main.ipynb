{
 "cells": [
  {
   "cell_type": "code",
   "execution_count": 746,
   "metadata": {},
   "outputs": [],
   "source": [
    "import networkx as nx\n",
    "import csv\n",
    "import numpy as np\n",
    "import operator\n",
    "import pandas as pd\n",
    "from sklearn import preprocessing\n",
    "from sklearn import svm\n",
    "from sklearn.model_selection import train_test_split\n",
    "\n",
    "\n",
    "\n",
    "\n"
   ]
  },
  {
   "cell_type": "code",
   "execution_count": 805,
   "metadata": {},
   "outputs": [],
   "source": [
    "G=nx.Graph()\n",
    "\n",
    "\n",
    "with open(\"edges.csv\", \"r\") as f:\n",
    "    reader = csv.reader(f)\n",
    "    edges  = list(reader)\n",
    "\n",
    "with open(\"nodes.csv\", \"r\") as f:\n",
    "    nodes = f.read().splitlines()\n",
    "\n",
    "\n",
    "G.add_nodes_from(nodes)\n",
    "G.add_edges_from(edges)\n",
    "\n"
   ]
  },
  {
   "cell_type": "code",
   "execution_count": null,
   "metadata": {},
   "outputs": [],
   "source": []
  },
  {
   "cell_type": "markdown",
   "metadata": {},
   "source": [
    "# Computation of the centrality"
   ]
  },
  {
   "cell_type": "code",
   "execution_count": 101,
   "metadata": {},
   "outputs": [
    {
     "data": {
      "text/plain": [
       "0.4849952963311383"
      ]
     },
     "execution_count": 101,
     "metadata": {},
     "output_type": "execute_result"
    }
   ],
   "source": [
    "#closeness\n",
    "clos_dict = nx.closeness_centrality(G,'1')\n",
    "clos_dict"
   ]
  },
  {
   "cell_type": "code",
   "execution_count": 111,
   "metadata": {},
   "outputs": [],
   "source": [
    "#betweeness\n",
    "betw_dict = nx.betweenness_centrality(G)\n"
   ]
  },
  {
   "cell_type": "markdown",
   "metadata": {},
   "source": [
    "# Degree Distribution"
   ]
  },
  {
   "cell_type": "code",
   "execution_count": 14,
   "metadata": {},
   "outputs": [],
   "source": [
    "%matplotlib inline"
   ]
  },
  {
   "cell_type": "code",
   "execution_count": 19,
   "metadata": {},
   "outputs": [
    {
     "data": {
      "image/png": "[encoded data removed]",
      "text/plain": [
       "<Figure size 432x288 with 1 Axes>"
      ]
     },
     "metadata": {
      "needs_background": "light"
     },
     "output_type": "display_data"
    }
   ],
   "source": [
    "import collections\n",
    "import matplotlib.pyplot as plt\n",
    "import networkx as nx\n",
    "\n",
    "\n",
    "degree_sequence = sorted([d for n, d in G.degree()], reverse=True)  # degree sequence\n",
    "# print \"Degree sequence\", degree_sequence\n",
    "degreeCount = collections.Counter(degree_sequence)\n",
    "deg, cnt = zip(*degreeCount.items())\n",
    "\n",
    "\n",
    "\n",
    "fig, ax = plt.subplots()\n",
    "plt.bar(deg, cnt, width=0.80, color='b')\n",
    "\n",
    "plt.title(\"Degree Histogram\")\n",
    "plt.ylabel(\"Count\")\n",
    "plt.xlabel(\"Degree\")\n",
    "#ax.set_xticks([d + 0.4 for d in deg])\n",
    "#ax.set_xticklabels(deg)\n",
    "\n",
    "# draw graph in inset\n",
    "\n",
    "\n",
    "plt.show()"
   ]
  },
  {
   "cell_type": "code",
   "execution_count": 29,
   "metadata": {},
   "outputs": [],
   "source": [
    "# log-log tranformation\n",
    "import math"
   ]
  },
  {
   "cell_type": "code",
   "execution_count": null,
   "metadata": {},
   "outputs": [],
   "source": []
  },
  {
   "cell_type": "code",
   "execution_count": 45,
   "metadata": {},
   "outputs": [
    {
     "data": {
      "image/png": "[encoded data removed]",
      "text/plain": [
       "<Figure size 432x288 with 1 Axes>"
      ]
     },
     "metadata": {
      "needs_background": "light"
     },
     "output_type": "display_data"
    }
   ],
   "source": [
    "import collections\n",
    "import matplotlib.pyplot as plt\n",
    "import networkx as nx\n",
    "\n",
    "\n",
    "degree_sequence = sorted([d for n, d in G.degree()], reverse=True)  # degree sequence\n",
    "# print \"Degree sequence\", degree_sequence\n",
    "degreeCount = collections.Counter(degree_sequence)\n",
    "deg, cnt = zip(*degreeCount.items())\n",
    "\n",
    "cnt = [math.log(x) for x in cnt]\n",
    "deg = [math.log(x) for x in deg]\n",
    "\n",
    "fig, ax = plt.subplots()\n",
    "plt.scatter(deg, cnt, color='b')\n",
    "\n",
    "plt.title(\"Scatter of Degree\")\n",
    "plt.ylabel(\"Log of Count\")\n",
    "plt.xlabel(\"Log of Degree\")\n",
    "#ax.set_xticks([d + 0.4 for d in deg])\n",
    "#ax.set_xticklabels(deg)\n",
    "\n",
    "# draw graph in inset\n",
    "\n",
    "\n",
    "plt.show()"
   ]
  },
  {
   "cell_type": "markdown",
   "metadata": {},
   "source": [
    "# Calculate alpha "
   ]
  },
  {
   "cell_type": "code",
   "execution_count": 31,
   "metadata": {},
   "outputs": [
    {
     "name": "stderr",
     "output_type": "stream",
     "text": [
      "Calculating best minimal value for power law fit\n"
     ]
    },
    {
     "name": "stdout",
     "output_type": "stream",
     "text": [
      "2.521858651932365\n"
     ]
    },
    {
     "data": {
      "text/plain": [
       "<matplotlib.axes._subplots.AxesSubplot at 0xa20bcb6d8>"
      ]
     },
     "execution_count": 31,
     "metadata": {},
     "output_type": "execute_result"
    },
    {
     "data": {
      "image/png": "[encoded data removed]",
      "text/plain": [
       "<Figure size 432x288 with 1 Axes>"
      ]
     },
     "metadata": {
      "needs_background": "light"
     },
     "output_type": "display_data"
    }
   ],
   "source": [
    "import powerlaw\n",
    "results = powerlaw.Fit(degree_sequence)\n",
    "print(results.power_law.alpha)\n",
    "\n",
    "# probability density function\n",
    "results.plot_pdf()"
   ]
  },
  {
   "cell_type": "code",
   "execution_count": 32,
   "metadata": {},
   "outputs": [
    {
     "data": {
      "text/plain": [
       "<matplotlib.axes._subplots.AxesSubplot at 0xa20beb9b0>"
      ]
     },
     "execution_count": 32,
     "metadata": {},
     "output_type": "execute_result"
    },
    {
     "data": {
      "image/png": "[encoded data removed]",
      "text/plain": [
       "<Figure size 432x288 with 1 Axes>"
      ]
     },
     "metadata": {
      "needs_background": "light"
     },
     "output_type": "display_data"
    }
   ],
   "source": [
    "# complementary cumulative distribution function\n",
    "results.plot_ccdf()"
   ]
  },
  {
   "cell_type": "markdown",
   "metadata": {},
   "source": [
    "# Best nodes - closeness centrality"
   ]
  },
  {
   "cell_type": "code",
   "execution_count": 96,
   "metadata": {},
   "outputs": [],
   "source": [
    "\n",
    "with open(\"output.csv\", \"r\") as f:\n",
    "    reader = csv.reader(f)\n",
    "    closeness_res  = list(reader)"
   ]
  },
  {
   "cell_type": "code",
   "execution_count": 1146,
   "metadata": {},
   "outputs": [
    {
     "data": {
      "text/plain": [
       "array(['4839', '176', '4374', '8157', '1226', '4984', '4997', '8859',\n",
       "       '7098', '645'], dtype='<U5')"
      ]
     },
     "execution_count": 1146,
     "metadata": {},
     "output_type": "execute_result"
    }
   ],
   "source": [
    "clos_scores = np.argsort([float(x[1]) for x in closeness_res])[::-1]\n",
    "nodes_list = np.array([x[0] for x in closeness_res])\n",
    "\n",
    "best_nodes = nodes_list[clos_scores]\n",
    "best_nodes[:10]\n",
    "\n"
   ]
  },
  {
   "cell_type": "markdown",
   "metadata": {},
   "source": [
    "# Best nodes - betweeness centrality\n"
   ]
  },
  {
   "cell_type": "code",
   "execution_count": 263,
   "metadata": {},
   "outputs": [],
   "source": [
    "\n",
    "with open(\"output_betw.csv\", \"r\") as f:\n",
    "    reader = csv.reader(f)\n",
    "    betw_res  = list(reader)"
   ]
  },
  {
   "cell_type": "code",
   "execution_count": 920,
   "metadata": {},
   "outputs": [
    {
     "data": {
      "text/plain": [
       "array(['176', '4839', '4374', '8859', '8157', '645', '1226', '7806',\n",
       "       '233', '446'], dtype='<U5')"
      ]
     },
     "execution_count": 920,
     "metadata": {},
     "output_type": "execute_result"
    }
   ],
   "source": [
    "scores_sorted = np.argsort([float(x[1]) for x in betw_res])[::-1]\n",
    "nodes_list = np.array([(x[0]) for x in betw_res])\n",
    "\n",
    "nodes_sorted = nodes_list[scores_sorted]\n",
    "nodes_sorted[:10]\n",
    "\n"
   ]
  },
  {
   "cell_type": "code",
   "execution_count": 13,
   "metadata": {},
   "outputs": [
    {
     "data": {
      "text/plain": [
       "82"
      ]
     },
     "execution_count": 13,
     "metadata": {},
     "output_type": "execute_result"
    }
   ],
   "source": [
    "len(set(nodes_sorted[:100]).intersection(set(best_nodes[:100])))"
   ]
  },
  {
   "cell_type": "code",
   "execution_count": 1144,
   "metadata": {},
   "outputs": [
    {
     "data": {
      "text/plain": [
       "95"
      ]
     },
     "execution_count": 1144,
     "metadata": {},
     "output_type": "execute_result"
    }
   ],
   "source": [
    "#intersection core betweeness\n",
    "len(set(nodes_sorted[:100]).intersection(set(nodes_in_k[:447])))"
   ]
  },
  {
   "cell_type": "code",
   "execution_count": 1147,
   "metadata": {},
   "outputs": [
    {
     "data": {
      "text/plain": [
       "100"
      ]
     },
     "execution_count": 1147,
     "metadata": {},
     "output_type": "execute_result"
    }
   ],
   "source": [
    "#intersection core closeness\n",
    "len(set(best_nodes[:100]).intersection(set(nodes_in_k[:447])))"
   ]
  },
  {
   "cell_type": "code",
   "execution_count": 1143,
   "metadata": {},
   "outputs": [
    {
     "data": {
      "text/plain": [
       "447"
      ]
     },
     "execution_count": 1143,
     "metadata": {},
     "output_type": "execute_result"
    }
   ],
   "source": [
    "len(nodes_in_k)"
   ]
  },
  {
   "cell_type": "markdown",
   "metadata": {},
   "source": [
    "##### We see that the intersection of the first 100 nodes sorted by betweeness centrality and the first 100 by closeness is equal to 82"
   ]
  },
  {
   "cell_type": "markdown",
   "metadata": {},
   "source": [
    "# Communicability of the graph"
   ]
  },
  {
   "cell_type": "code",
   "execution_count": null,
   "metadata": {},
   "outputs": [],
   "source": [
    "comm_dict = communicability(G)"
   ]
  },
  {
   "cell_type": "markdown",
   "metadata": {},
   "source": [
    "# Other centralities"
   ]
  },
  {
   "cell_type": "code",
   "execution_count": 39,
   "metadata": {},
   "outputs": [],
   "source": [
    "#eigenvector centrality \n",
    "ecentrality = nx.eigenvector_centrality_numpy(G)"
   ]
  },
  {
   "cell_type": "code",
   "execution_count": 1121,
   "metadata": {},
   "outputs": [],
   "source": [
    "#katz\n",
    "katz = nx.katz_centrality_numpy(G)"
   ]
  },
  {
   "cell_type": "code",
   "execution_count": 41,
   "metadata": {},
   "outputs": [],
   "source": [
    "#pagerank\n",
    "pr = nx.pagerank(G, alpha=0.9)"
   ]
  },
  {
   "cell_type": "code",
   "execution_count": 42,
   "metadata": {},
   "outputs": [],
   "source": [
    "#HITs (h hubs a authorities)\n",
    "h,a = nx.hits(G)"
   ]
  },
  {
   "cell_type": "code",
   "execution_count": 79,
   "metadata": {},
   "outputs": [],
   "source": [
    "# sort all\n",
    "sorted_e = sorted(ecentrality.items(), key=operator.itemgetter(1), reverse=True)\n",
    "\n",
    "sorted_katz = sorted(katz.items(), key=operator.itemgetter(1), reverse=True)\n",
    "\n",
    "\n",
    "sorted_pr = sorted(pr.items(), key=operator.itemgetter(1), reverse=True)\n",
    "\n",
    "\n",
    "sorted_h = sorted(h.items(), key=operator.itemgetter(1), reverse=True)\n",
    "sorted_a = sorted(a.items(), key=operator.itemgetter(1), reverse=True)"
   ]
  },
  {
   "cell_type": "code",
   "execution_count": null,
   "metadata": {},
   "outputs": [],
   "source": []
  },
  {
   "cell_type": "code",
   "execution_count": null,
   "metadata": {},
   "outputs": [],
   "source": []
  },
  {
   "cell_type": "markdown",
   "metadata": {},
   "source": [
    "# K-core decomposition"
   ]
  },
  {
   "cell_type": "code",
   "execution_count": 125,
   "metadata": {},
   "outputs": [],
   "source": [
    "# getting k core decomposition of the graph\n",
    "\n",
    "K_core = nx.k_core(G)\n",
    "\n"
   ]
  },
  {
   "cell_type": "code",
   "execution_count": null,
   "metadata": {},
   "outputs": [],
   "source": []
  },
  {
   "cell_type": "code",
   "execution_count": 133,
   "metadata": {},
   "outputs": [],
   "source": [
    "nodes_in_k = list(K_core.nodes())"
   ]
  },
  {
   "cell_type": "markdown",
   "metadata": {},
   "source": [
    "# Start the supervised algo "
   ]
  },
  {
   "cell_type": "markdown",
   "metadata": {},
   "source": [
    "Recognize the most influential nodes fitting a classification model with the centralities as features; the labels are 1 if the node belongs to the k-core, 0 otherwise"
   ]
  },
  {
   "cell_type": "code",
   "execution_count": 1133,
   "metadata": {},
   "outputs": [],
   "source": [
    "#get the features\n",
    "ecentrality_feat = [x[1] for x in ecentrality.items()]\n",
    "katz_feat = [x[1] for x in katz.items()]\n",
    "pr_feat = [x[1] for x in pr.items()]\n",
    "h_feat = [x[1] for x in h.items()]\n",
    "a_feat = [x[1] for x in a.items()]\n",
    "\n",
    "nodes_cl = np.argsort([int(x[0]) for x in closeness_res])\n",
    "clos_list = np.array([float(x[1]) for x in closeness_res])\n",
    "nodes_ordered_clos = list(clos_list[nodes_cl])\n",
    "\n",
    "nodes_betw = np.argsort([int(x[0]) for x in betw_res])\n",
    "betw_list = np.array([float(x[1]) for x in betw_res])\n",
    "nodes_ordered_betw = list(betw_list[nodes_betw])\n",
    "\n",
    "#labels\n",
    "labels = []\n",
    "for x in G.nodes():\n",
    "    if x in best_spreaders:\n",
    "        labels.append(1)\n",
    "    else:\n",
    "        labels.append(0)"
   ]
  },
  {
   "cell_type": "code",
   "execution_count": 1134,
   "metadata": {},
   "outputs": [],
   "source": [
    "training_features = np.array([ecentrality_feat, katz_feat, pr_feat, h_feat, a_feat, nodes_ordered_clos, nodes_ordered_betw ]).T\n",
    "# scale\n",
    "X = preprocessing.scale(training_features)"
   ]
  },
  {
   "cell_type": "code",
   "execution_count": null,
   "metadata": {},
   "outputs": [],
   "source": []
  },
  {
   "cell_type": "code",
   "execution_count": 1135,
   "metadata": {},
   "outputs": [],
   "source": [
    "y = np.array(labels)\n"
   ]
  },
  {
   "cell_type": "code",
   "execution_count": 1136,
   "metadata": {},
   "outputs": [],
   "source": [
    "#train and test split\n",
    "X_train, X_test, y_train, y_test = train_test_split(X, y, test_size=0.53)"
   ]
  },
  {
   "cell_type": "code",
   "execution_count": 1137,
   "metadata": {},
   "outputs": [
    {
     "name": "stderr",
     "output_type": "stream",
     "text": [
      "/anaconda3/lib/python3.6/site-packages/sklearn/svm/base.py:922: ConvergenceWarning: Liblinear failed to converge, increase the number of iterations.\n",
      "  \"the number of iterations.\", ConvergenceWarning)\n"
     ]
    },
    {
     "data": {
      "text/plain": [
       "LinearSVC(C=1.0, class_weight=None, dual=True, fit_intercept=True,\n",
       "     intercept_scaling=1, loss='squared_hinge', max_iter=1000,\n",
       "     multi_class='ovr', penalty='l2', random_state=None, tol=0.0001,\n",
       "     verbose=0)"
      ]
     },
     "execution_count": 1137,
     "metadata": {},
     "output_type": "execute_result"
    }
   ],
   "source": [
    "# initialize basic SVM\n",
    "classifier = svm.LinearSVC()\n",
    "\n",
    "# train\n",
    "classifier.fit(X_train, y_train)"
   ]
  },
  {
   "cell_type": "code",
   "execution_count": 1138,
   "metadata": {},
   "outputs": [],
   "source": [
    "predicted_test = classifier.predict(X_test)"
   ]
  },
  {
   "cell_type": "code",
   "execution_count": 1139,
   "metadata": {},
   "outputs": [
    {
     "data": {
      "text/plain": [
       "0.8898646176362971"
      ]
     },
     "execution_count": 1139,
     "metadata": {},
     "output_type": "execute_result"
    }
   ],
   "source": [
    "classifier.score(X_test, y_test)"
   ]
  },
  {
   "cell_type": "code",
   "execution_count": 177,
   "metadata": {},
   "outputs": [],
   "source": [
    "count= 0\n",
    "for i in range(len(predicted_test)):\n",
    "    if predicted_test[i] == y_test[i]:\n",
    "        count+=1\n",
    "\n",
    "        \n",
    "    "
   ]
  },
  {
   "cell_type": "code",
   "execution_count": 178,
   "metadata": {},
   "outputs": [
    {
     "data": {
      "text/plain": [
       "5466"
      ]
     },
     "execution_count": 178,
     "metadata": {},
     "output_type": "execute_result"
    }
   ],
   "source": [
    "len(predicted_test)"
   ]
  },
  {
   "cell_type": "code",
   "execution_count": 179,
   "metadata": {},
   "outputs": [
    {
     "data": {
      "text/plain": [
       "5448"
      ]
     },
     "execution_count": 179,
     "metadata": {},
     "output_type": "execute_result"
    }
   ],
   "source": [
    "count"
   ]
  },
  {
   "cell_type": "markdown",
   "metadata": {},
   "source": [
    "# New closeness measure"
   ]
  },
  {
   "cell_type": "markdown",
   "metadata": {},
   "source": [
    "sum of core number of neighbors"
   ]
  },
  {
   "cell_type": "code",
   "execution_count": 207,
   "metadata": {},
   "outputs": [],
   "source": [
    "def core_centrality(G):\n",
    "    dict_cn= nx.core_number(G)\n",
    "    core_centrality = {}\n",
    "    for x in G.nodes():\n",
    "        sum_cn = 0\n",
    "        for i in G.neighbors(x):\n",
    "            sum_cn+= dict_cn[i]\n",
    "        core_centrality[x]=sum_cn\n",
    "    return core_centrality\n",
    "    "
   ]
  },
  {
   "cell_type": "code",
   "execution_count": 209,
   "metadata": {},
   "outputs": [],
   "source": [
    "cc =core_centrality(G)"
   ]
  },
  {
   "cell_type": "code",
   "execution_count": 210,
   "metadata": {},
   "outputs": [],
   "source": [
    "sorted_cc = [int(x[0]) for x in sorted(cc.items(), key=operator.itemgetter(1), reverse=True)]"
   ]
  },
  {
   "cell_type": "code",
   "execution_count": 211,
   "metadata": {},
   "outputs": [
    {
     "data": {
      "text/plain": [
       "6"
      ]
     },
     "execution_count": 211,
     "metadata": {},
     "output_type": "execute_result"
    }
   ],
   "source": [
    "len(set(sorted_cc[:10]).intersection(set(nodes_sorted[:10])))"
   ]
  },
  {
   "cell_type": "markdown",
   "metadata": {},
   "source": [
    "# Simulation of the spreading"
   ]
  },
  {
   "cell_type": "markdown",
   "metadata": {},
   "source": [
    "we used a probability based model to determine the spreading over the network, i.e. each neighbor to an infected node has some probability p of being infected"
   ]
  },
  {
   "cell_type": "code",
   "execution_count": 464,
   "metadata": {},
   "outputs": [],
   "source": [
    "\n",
    "sort_by_deg = sorted(G.degree, key=lambda x: x[1], reverse=True)"
   ]
  },
  {
   "cell_type": "markdown",
   "metadata": {},
   "source": [
    "### Nodes by degree"
   ]
  },
  {
   "cell_type": "code",
   "execution_count": 836,
   "metadata": {},
   "outputs": [
    {
     "name": "stdout",
     "output_type": "stream",
     "text": [
      "('10229', 1)\n"
     ]
    },
    {
     "data": {
      "text/plain": [
       "('3657', 247)"
      ]
     },
     "execution_count": 836,
     "metadata": {},
     "output_type": "execute_result"
    }
   ],
   "source": [
    "print(sort_by_deg[-1])\n",
    "sort_by_deg[500]"
   ]
  },
  {
   "cell_type": "code",
   "execution_count": 499,
   "metadata": {},
   "outputs": [
    {
     "name": "stdout",
     "output_type": "stream",
     "text": [
      "{'beta': 0.01, 'gamma': 0.005, 'Infected': ['10229'], 'percentage_infected': 0}\n"
     ]
    },
    {
     "data": {
      "text/plain": [
       "{0: 158, 1: 4260, 2: 5894}"
      ]
     },
     "execution_count": 499,
     "metadata": {},
     "output_type": "execute_result"
    }
   ],
   "source": [
    "print(model2.get_info())\n",
    "\n",
    "model2.iteration()['node_count']\n"
   ]
  },
  {
   "cell_type": "code",
   "execution_count": 524,
   "metadata": {},
   "outputs": [
    {
     "data": {
      "text/plain": [
       "{0: 6732, 1: 3572, 2: 8}"
      ]
     },
     "execution_count": 524,
     "metadata": {},
     "output_type": "execute_result"
    }
   ],
   "source": [
    "iterations[9]['node_count']"
   ]
  },
  {
   "cell_type": "code",
   "execution_count": 652,
   "metadata": {},
   "outputs": [
    {
     "data": {
      "text/plain": [
       "{0: 10311, 1: 1, 2: 0}"
      ]
     },
     "execution_count": 652,
     "metadata": {},
     "output_type": "execute_result"
    }
   ],
   "source": [
    "iterations[99]['node_count']"
   ]
  },
  {
   "cell_type": "markdown",
   "metadata": {},
   "source": [
    "('10229', 1)\n",
    "\n",
    "('4839', 3992)"
   ]
  },
  {
   "cell_type": "code",
   "execution_count": 735,
   "metadata": {},
   "outputs": [],
   "source": [
    "import networkx as nx\n",
    "import ndlib.models.ModelConfig as mc\n",
    "import ndlib.models.epidemics.IndependentCascadesModel as ids\n",
    "\n",
    "\n",
    "\n",
    "# Model selection\n",
    "model = ids.IndependentCascadesModel(G)\n",
    "\n",
    "# Model Configuration\n",
    "config = mc.Configuration()\n",
    "config.add_model_parameter('percentage_infected', 0)\n",
    "config.add_model_parameter( \"Infected\", 1)\n",
    "\n",
    "# Setting the edge parameters\n",
    "threshold = 0.5\n",
    "for e in g.edges():\n",
    "    config.add_edge_configuration(\"threshold\", e, threshold)\n",
    "\n",
    "model.set_initial_status(config)\n",
    "\n",
    "# Simulation execution\n",
    "iterations = model.iteration_bunch(200)"
   ]
  },
  {
   "cell_type": "code",
   "execution_count": 745,
   "metadata": {},
   "outputs": [
    {
     "data": {
      "text/plain": [
       "<dict_keyiterator at 0xa31dba728>"
      ]
     },
     "execution_count": 745,
     "metadata": {},
     "output_type": "execute_result"
    }
   ],
   "source": [
    "G.neighbors(sort_by_deg[0][0])"
   ]
  },
  {
   "cell_type": "code",
   "execution_count": 1059,
   "metadata": {},
   "outputs": [],
   "source": [
    "def spread_to_200(node, G, beta = 0.002):\n",
    "    \n",
    "    \n",
    "    infected_nodes = []\n",
    "\n",
    "    # Set how many timesteps you want to pass through\n",
    "    n_timesteps = range(10)\n",
    "    # Start from the node you have chosen using edge centrality\n",
    "    infected_nodes.append(node)\n",
    "    \n",
    "    for _ in n_timesteps:\n",
    "        for node in infected_nodes:\n",
    "            for neighbor in [n for n in G.neighbors(node)]:\n",
    "                # random.random simply returns a number between [0,1)\n",
    "                if len(infected_nodes)>200:\n",
    "                    break\n",
    "                if random.random() < beta:\n",
    "                    infected_nodes.append(neighbor)\n",
    "            #G.remove_node(node)\n",
    "        #print(_)\n",
    "        #print(infected_nodes)\n",
    "        if len(infected_nodes)>200:\n",
    "            #print('over')\n",
    "            #print(len(infected_nodes))\n",
    "            break\n",
    "    \n",
    "    return _\n",
    "\n",
    "def average(node,G):\n",
    "    results = 0\n",
    "    for x in range(5):\n",
    "        results+= spread_to_200(node, G)\n",
    "    return results/5\n",
    "        \n",
    "        \n",
    "    \n",
    "    \n",
    "    \n",
    "    \n"
   ]
  },
  {
   "cell_type": "code",
   "execution_count": 1060,
   "metadata": {},
   "outputs": [
    {
     "data": {
      "text/plain": [
       "3.4"
      ]
     },
     "execution_count": 1060,
     "metadata": {},
     "output_type": "execute_result"
    }
   ],
   "source": [
    "average('4839',G)"
   ]
  },
  {
   "cell_type": "code",
   "execution_count": 1049,
   "metadata": {},
   "outputs": [
    {
     "data": {
      "text/plain": [
       "3"
      ]
     },
     "execution_count": 1049,
     "metadata": {},
     "output_type": "execute_result"
    }
   ],
   "source": [
    "spread_to_200('4839', G)"
   ]
  },
  {
   "cell_type": "code",
   "execution_count": 946,
   "metadata": {},
   "outputs": [
    {
     "data": {
      "text/plain": [
       "[[2, 62],\n",
       " [3, 200],\n",
       " [4, 351],\n",
       " [5, 401],\n",
       " [6, 416],\n",
       " [7, 384],\n",
       " [8, 404],\n",
       " [9, 8094]]"
      ]
     },
     "execution_count": 946,
     "metadata": {},
     "output_type": "execute_result"
    }
   ],
   "source": [
    "l=[x[1] for x in spreading.items()]\n",
    "\n",
    "[[x,l.count(x)] for x in set(l)]\n"
   ]
  },
  {
   "cell_type": "code",
   "execution_count": 1067,
   "metadata": {},
   "outputs": [
    {
     "data": {
      "text/plain": [
       "286"
      ]
     },
     "execution_count": 1067,
     "metadata": {},
     "output_type": "execute_result"
    }
   ],
   "source": [
    "import operator\n",
    "\n",
    "sorted_spreading = sorted(spreading.items(), key=operator.itemgetter(1))\n",
    "\n",
    "sorted_spreading2 = [x[0] for x in sorted_spreading]\n",
    "len(set(sorted_spreading2[:500]).intersection(set(list(nodes_sorted)[:500])))\n"
   ]
  },
  {
   "cell_type": "code",
   "execution_count": 904,
   "metadata": {},
   "outputs": [
    {
     "data": {
      "text/plain": [
       "array([10311,  3912,  3920, ...,  3926,  8524,  1251])"
      ]
     },
     "execution_count": 904,
     "metadata": {},
     "output_type": "execute_result"
    }
   ],
   "source": [
    "np.argsort([int(x[1]) for x in spreading.items()])[::-1]"
   ]
  },
  {
   "cell_type": "code",
   "execution_count": 1132,
   "metadata": {},
   "outputs": [],
   "source": [
    "best_spreaders = sorted_spreading2[:2000]\n"
   ]
  },
  {
   "cell_type": "code",
   "execution_count": 1062,
   "metadata": {},
   "outputs": [
    {
     "name": "stdout",
     "output_type": "stream",
     "text": [
      "100\n",
      "200\n",
      "300\n",
      "400\n",
      "500\n",
      "600\n",
      "700\n",
      "800\n",
      "900\n",
      "1000\n",
      "1100\n",
      "1200\n",
      "1300\n",
      "1400\n",
      "1500\n",
      "1600\n",
      "1700\n",
      "1800\n",
      "1900\n",
      "2000\n",
      "2100\n",
      "2200\n",
      "2300\n",
      "2400\n",
      "2500\n",
      "2600\n",
      "2700\n",
      "2800\n",
      "2900\n",
      "3000\n",
      "3100\n",
      "3200\n",
      "3300\n",
      "3400\n",
      "3500\n",
      "3600\n",
      "3700\n",
      "3800\n",
      "3900\n",
      "4000\n",
      "4100\n",
      "4200\n",
      "4300\n",
      "4400\n",
      "4500\n",
      "4600\n",
      "4700\n",
      "4800\n",
      "4900\n",
      "5000\n",
      "5100\n",
      "5200\n",
      "5300\n",
      "5400\n",
      "5500\n",
      "5600\n",
      "5700\n",
      "5800\n",
      "5900\n",
      "6000\n",
      "6100\n",
      "6200\n",
      "6300\n",
      "6400\n",
      "6500\n",
      "6600\n",
      "6700\n",
      "6800\n",
      "6900\n",
      "7000\n",
      "7100\n",
      "7200\n",
      "7300\n",
      "7400\n",
      "7500\n",
      "7600\n",
      "7700\n",
      "7800\n",
      "7900\n",
      "8000\n",
      "8100\n",
      "8200\n",
      "8300\n",
      "8400\n",
      "8500\n",
      "8600\n",
      "8700\n",
      "8800\n",
      "8900\n",
      "9000\n",
      "9100\n",
      "9200\n",
      "9300\n",
      "9400\n",
      "9500\n",
      "9600\n",
      "9700\n",
      "9800\n",
      "9900\n",
      "10000\n",
      "10100\n",
      "10200\n",
      "10300\n"
     ]
    }
   ],
   "source": [
    "spreading = {}\n",
    "count=0\n",
    "for x in G.nodes():\n",
    "    count+=1\n",
    "    spreading[x]=average(x, G)\n",
    "    if count%100==0:\n",
    "        print(count)\n",
    "    "
   ]
  },
  {
   "cell_type": "code",
   "execution_count": 868,
   "metadata": {},
   "outputs": [
    {
     "name": "stdout",
     "output_type": "stream",
     "text": [
      "yes\n"
     ]
    }
   ],
   "source": [
    "if 50%10==0:\n",
    "    print('yes')"
   ]
  },
  {
   "cell_type": "code",
   "execution_count": 1118,
   "metadata": {},
   "outputs": [
    {
     "name": "stdout",
     "output_type": "stream",
     "text": [
      "1001\n",
      "1001\n",
      "1001\n",
      "1001\n",
      "1001\n",
      "1001\n",
      "1001\n",
      "1001\n",
      "1001\n",
      "1001\n",
      "12.0\n"
     ]
    }
   ],
   "source": [
    "\n",
    "\n",
    "results = 0\n",
    "for x in range(10):\n",
    "    infected_nodes = []\n",
    "    # Set the infection rate\n",
    "    beta = 0.001\n",
    "    # Set the removal rate\n",
    "    gamma = 0.1\n",
    "    # Set how many timesteps you want to pass through\n",
    "    n_timesteps = range(20)\n",
    "    # Start from the node you have chosen using edge centrality\n",
    "    infected_nodes.append('4839')\n",
    "    \n",
    "    for _ in n_timesteps:\n",
    "    # Infection stage\n",
    "        for node in infected_nodes:\n",
    "            for neighbor in [n for n in G.neighbors(node)]:\n",
    "            \n",
    "            # random.random simply returns a number between [0,1)\n",
    "                if len(infected_nodes)>1000:\n",
    "                    break\n",
    "                if random.random() < beta:\n",
    "                    infected_nodes.append(neighbor)\n",
    "                \n",
    "        #G.remove_node(node)\n",
    "        #print(_)\n",
    "    #print(infected_nodes)\n",
    "        if len(infected_nodes)>1000:\n",
    "            #print('over')\n",
    "            print(len(infected_nodes))\n",
    "            break\n",
    "    results+=_\n",
    "print(results/10)\n",
    "    # Removal stage\n",
    "#    infected_survivors = []\n",
    "#    for node in infected_nodes:\n",
    "#        if random.random() < gamma:\n",
    "#            graph = igraph.delete_vertices(graph, node)\n",
    "#        else:\n",
    "#            infected_survivors.append(node)\n",
    "#    infected_nodes = infected_survivors"
   ]
  },
  {
   "cell_type": "code",
   "execution_count": null,
   "metadata": {},
   "outputs": [],
   "source": [
    "4839"
   ]
  },
  {
   "cell_type": "code",
   "execution_count": null,
   "metadata": {},
   "outputs": [],
   "source": [
    "10229"
   ]
  },
  {
   "cell_type": "code",
   "execution_count": null,
   "metadata": {},
   "outputs": [],
   "source": []
  }
 ],
 "metadata": {
  "kernelspec": {
   "display_name": "Python 3",
   "language": "python",
   "name": "python3"
  },
  "language_info": {
   "codemirror_mode": {
    "name": "ipython",
    "version": 3
   },
   "file_extension": ".py",
   "mimetype": "text/x-python",
   "name": "python",
   "nbconvert_exporter": "python",
   "pygments_lexer": "ipython3",
   "version": "3.6.7"
  }
 },
 "nbformat": 4,
 "nbformat_minor": 2
}
